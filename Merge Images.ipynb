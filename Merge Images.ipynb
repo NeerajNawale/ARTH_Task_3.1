{
 "cells": [
  {
   "cell_type": "code",
   "execution_count": 1,
   "id": "e02a5504",
   "metadata": {},
   "outputs": [],
   "source": [
    "import cv2"
   ]
  },
  {
   "cell_type": "code",
   "execution_count": 2,
   "id": "58134967",
   "metadata": {},
   "outputs": [],
   "source": [
    "img1 = cv2.imread(\"img4.jpeg\")"
   ]
  },
  {
   "cell_type": "code",
   "execution_count": 3,
   "id": "a789a256",
   "metadata": {},
   "outputs": [],
   "source": [
    "cv2.imshow(\"Image - 1\", img1)\n",
    "cv2.waitKey() == 13\n",
    "cv2.destroyAllWindows()"
   ]
  },
  {
   "cell_type": "code",
   "execution_count": 4,
   "id": "520a999c",
   "metadata": {},
   "outputs": [],
   "source": [
    "img2 = cv2.imread(\"img5.jpeg\")"
   ]
  },
  {
   "cell_type": "code",
   "execution_count": 5,
   "id": "74ddecea",
   "metadata": {},
   "outputs": [],
   "source": [
    "cv2.imshow(\"Image - 2\", img2)\n",
    "cv2.waitKey() == 13\n",
    "cv2.destroyAllWindows()"
   ]
  },
  {
   "cell_type": "code",
   "execution_count": 6,
   "id": "f66fc226",
   "metadata": {},
   "outputs": [],
   "source": [
    "import numpy as np"
   ]
  },
  {
   "cell_type": "code",
   "execution_count": 7,
   "id": "7156f627",
   "metadata": {},
   "outputs": [
    {
     "data": {
      "text/plain": [
       "(736, 736, 3)"
      ]
     },
     "execution_count": 7,
     "metadata": {},
     "output_type": "execute_result"
    }
   ],
   "source": [
    "img1.shape"
   ]
  },
  {
   "cell_type": "code",
   "execution_count": 8,
   "id": "e3eaae42",
   "metadata": {},
   "outputs": [
    {
     "data": {
      "text/plain": [
       "(626, 626, 3)"
      ]
     },
     "execution_count": 8,
     "metadata": {},
     "output_type": "execute_result"
    }
   ],
   "source": [
    "img2.shape"
   ]
  },
  {
   "cell_type": "code",
   "execution_count": 9,
   "id": "c1b90803",
   "metadata": {},
   "outputs": [],
   "source": [
    "#Dimensions must be same\n",
    "img1 = img1[:626, :626]"
   ]
  },
  {
   "cell_type": "code",
   "execution_count": 10,
   "id": "9877c7c3",
   "metadata": {},
   "outputs": [
    {
     "data": {
      "text/plain": [
       "(626, 626, 3)"
      ]
     },
     "execution_count": 10,
     "metadata": {},
     "output_type": "execute_result"
    }
   ],
   "source": [
    "img1.shape"
   ]
  },
  {
   "cell_type": "code",
   "execution_count": 11,
   "id": "fb2a4186",
   "metadata": {},
   "outputs": [],
   "source": [
    "#Horizontal stack\n",
    "himg = np.hstack((img1, img2))"
   ]
  },
  {
   "cell_type": "code",
   "execution_count": 12,
   "id": "97f14412",
   "metadata": {},
   "outputs": [],
   "source": [
    "cv2.imshow(\"Merge Horizontally\", himg)\n",
    "cv2.waitKey() == 13\n",
    "cv2.destroyAllWindows()"
   ]
  },
  {
   "cell_type": "code",
   "execution_count": 13,
   "id": "d42ba293",
   "metadata": {},
   "outputs": [],
   "source": [
    "# Vertical Stack\n",
    "# vimg = np.vstack((img2, img1))"
   ]
  },
  {
   "cell_type": "code",
   "execution_count": 14,
   "id": "c6aa128c",
   "metadata": {},
   "outputs": [],
   "source": [
    "# cv2.imshow(\"Merge Vertically\", vimg)\n",
    "# cv2.waitKey() == 13\n",
    "# cv2.destroyAllWindows()"
   ]
  },
  {
   "cell_type": "code",
   "execution_count": null,
   "id": "8af6a598",
   "metadata": {},
   "outputs": [],
   "source": []
  }
 ],
 "metadata": {
  "kernelspec": {
   "display_name": "Python 3",
   "language": "python",
   "name": "python3"
  },
  "language_info": {
   "codemirror_mode": {
    "name": "ipython",
    "version": 3
   },
   "file_extension": ".py",
   "mimetype": "text/x-python",
   "name": "python",
   "nbconvert_exporter": "python",
   "pygments_lexer": "ipython3",
   "version": "3.8.8"
  }
 },
 "nbformat": 4,
 "nbformat_minor": 5
}
